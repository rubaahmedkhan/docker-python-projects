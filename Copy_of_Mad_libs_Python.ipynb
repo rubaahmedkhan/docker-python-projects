{
  "nbformat": 4,
  "nbformat_minor": 0,
  "metadata": {
    "colab": {
      "provenance": [],
      "authorship_tag": "ABX9TyOn1NZrxJFFOzLs+FPLde9Y",
      "include_colab_link": true
    },
    "kernelspec": {
      "name": "python3",
      "display_name": "Python 3"
    },
    "language_info": {
      "name": "python"
    }
  },
  "cells": [
    {
      "cell_type": "markdown",
      "metadata": {
        "id": "view-in-github",
        "colab_type": "text"
      },
      "source": [
        "<a href=\"https://colab.research.google.com/github/rubaahmedkhan/docker-python-projects/blob/main/Copy_of_Mad_libs_Python.ipynb\" target=\"_parent\"><img src=\"https://colab.research.google.com/assets/colab-badge.svg\" alt=\"Open In Colab\"/></a>"
      ]
    },
    {
      "cell_type": "code",
      "execution_count": null,
      "metadata": {
        "colab": {
          "base_uri": "https://localhost:8080/"
        },
        "id": "VvqDuK91qxN_",
        "outputId": "3e5a4ffc-525e-4c21-ff78-4ff051c8b97c"
      },
      "outputs": [
        {
          "output_type": "stream",
          "name": "stdout",
          "text": [
            "Welcome to the Mad Libs game!\n"
          ]
        }
      ],
      "source": [
        "# Mad Libs Project\n",
        "print(\"Welcome to the Mad Libs game!\")"
      ]
    },
    {
      "cell_type": "code",
      "source": [
        "# Input from the User\n",
        "name: str = input(\"Enter a name: \")\n",
        "place: str = input(\"Enter a place: \")\n",
        "animal: str = input(\"Enter an adnimal: \")\n",
        "activity: str = input(\"Enter an activity: \")\n"
      ],
      "metadata": {
        "colab": {
          "base_uri": "https://localhost:8080/"
        },
        "id": "WZ_Tf5WVrUBw",
        "outputId": "b0b09b6b-bf82-4096-e7da-a0c6cf66e0fe"
      },
      "execution_count": null,
      "outputs": [
        {
          "name": "stdout",
          "output_type": "stream",
          "text": [
            "Enter a name: Ali\n",
            "Enter a place: park\n",
            "Enter an adnimal: dog\n",
            "Enter an activity: fetch\n"
          ]
        }
      ]
    },
    {
      "cell_type": "code",
      "source": [
        "# create the story using the inputs\n",
        "story: str = f\"\"\"\n",
        "Once upon a time, {name} went to {place}.\n",
        "There, they saw a {animal} who was {activity}.\n",
        "{animal.capitalize()} was so happy, and {name} decided to join in!\n",
        "\"\"\""
      ],
      "metadata": {
        "id": "NxUGwZjsrTjZ"
      },
      "execution_count": null,
      "outputs": []
    },
    {
      "cell_type": "code",
      "source": [
        "# print the final story\n",
        "print(\"\\nYour Mad Libs story\")\n",
        "print(story)"
      ],
      "metadata": {
        "colab": {
          "base_uri": "https://localhost:8080/"
        },
        "id": "IE9exrhatJYH",
        "outputId": "97456ef4-e2c6-4fe1-b46f-c8507c08e297"
      },
      "execution_count": null,
      "outputs": [
        {
          "output_type": "stream",
          "name": "stdout",
          "text": [
            "\n",
            "Your Mad Libs story\n",
            "\n",
            "Once upon a time, Ali went to park.\n",
            "There, they saw a dog who was fetch.\n",
            "Dog was so happy, and Ali decided to join in!\n",
            "\n"
          ]
        }
      ]
    }
  ]
}